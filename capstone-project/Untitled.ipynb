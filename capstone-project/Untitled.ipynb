{
 "cells": [
  {
   "cell_type": "markdown",
   "metadata": {
    "editable": true
   },
   "source": [
    "## Step 3: Define the Data Model\n",
    "\n",
    "![alt text](ER-diagram.png \"Title\")\n",
    "\n",
    "### Dimension Tables\n",
    "* **port_location_df** - global I94 port location  \n",
    "    *City, Country, Port*\n",
    "    \n",
    "* **dim_temp_df** - global average temperature  \n",
    "    *City, Country, Year, Month, AverageTemperature*\n",
    "\n",
    "* **dim_immigration_df** - I94 immigration only for arrivals  \n",
    "    *Port, Year, Month, count*\n",
    "\n",
    "### Fact Table\n",
    "* **avg_temp_fact_df** - Monthly records of arrivals in the country/city with average temperature \n",
    "    *Port, Month, AverageTemperature, Count*\n",
    "    \n",
    "### Snowflake Schema based model:\n",
    "With this project, I wanted to find the effect of temperature on the number of passengers arriving at a port. The data we had were:\n",
    "1. Dim table #1 (port_location): The mapping of port to the country/city it is located in. It is created from i94port_valid.txt file where only valid i94port location details are extracted. \n",
    "2. Dim table #2 (dim_temp): The average monthly temperature of a country/city for a given month and year. It is extracted from global temperature data.\n",
    "3. Dim table #3 (dim_immigration): The count of passengers arriving at (and departing from) a port in a given year/month. It is extracted from I94 immigration data.\n",
    "\n",
    "These had some commonalities using which we could obtain the desired outcome. I chose to do it in two steps:\n",
    "1. Create another dim table (avg_temp) by joining port_location (Dim table #1) and dim_temp (Dim table #2) based on the fields *city* and *country*. This would thus provide the average monthly temperature at a port for a given year and month.\n",
    "2. Join the dim table from above with dim_immigration (Dim table #3) using port, year and month to get the desired outcome. \n",
    "\n",
    "To the reason behind choosing Snowkflake Schema, I chose it because:\n",
    "* We needed to create an intermediate dim_table.\n",
    "* Snowflake can avoid redundant data which makes it easier to maintain.\n",
    "* Snowflake schema leads to reduced data redundancy and consumes lesser disk space."
   ]
  },
  {
   "cell_type": "markdown",
   "metadata": {
    "editable": true
   },
   "source": []
  }
 ],
 "metadata": {
  "kernelspec": {
   "display_name": "Python 3",
   "language": "python",
   "name": "python3"
  },
  "language_info": {
   "codemirror_mode": {
    "name": "ipython",
    "version": 3
   },
   "file_extension": ".py",
   "mimetype": "text/x-python",
   "name": "python",
   "nbconvert_exporter": "python",
   "pygments_lexer": "ipython3",
   "version": "3.6.3"
  }
 },
 "nbformat": 4,
 "nbformat_minor": 4
}
